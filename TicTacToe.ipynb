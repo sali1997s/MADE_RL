{
 "cells": [
  {
   "cell_type": "code",
   "execution_count": 1,
   "metadata": {},
   "outputs": [
    {
     "name": "stderr",
     "output_type": "stream",
     "text": [
      "C:\\Users\\Sali1\\anaconda3\\lib\\site-packages\\sklearn\\utils\\deprecation.py:144: FutureWarning: The sklearn.utils.testing module is  deprecated in version 0.22 and will be removed in version 0.24. The corresponding classes / functions should instead be imported from sklearn.utils. Anything that cannot be imported from sklearn.utils is now part of the private API.\n",
      "  warnings.warn(message, FutureWarning)\n"
     ]
    }
   ],
   "source": [
    "import gym\n",
    "\n",
    "import matplotlib as mpl\n",
    "import matplotlib.pyplot as plt\n",
    "import seaborn as sns\n",
    "import json\n",
    "import math\n",
    "import random\n",
    "import numpy as np\n",
    "import scipy as sp\n",
    "import scipy.stats as st\n",
    "import scipy.integrate as integrate\n",
    "from scipy.stats import multivariate_normal\n",
    "from sklearn import linear_model\n",
    "from sklearn.utils.testing import ignore_warnings\n",
    "from sklearn.exceptions import ConvergenceWarning\n",
    "import statsmodels.api as sm\n",
    "from matplotlib.colors import LogNorm\n",
    "import pickle\n",
    "from tqdm.notebook import tqdm_notebook\n",
    "from copy import deepcopy\n",
    "\n",
    "from joblib import Parallel, delayed\n",
    "import multiprocessing\n",
    "from collections import namedtuple\n",
    "from collections import defaultdict\n",
    "from itertools import count\n",
    "\n",
    "import cProfile\n",
    "from datetime import datetime\n",
    "\n",
    "import torch\n",
    "import torch.nn as nn\n",
    "import torch.optim as optim\n",
    "import torch.nn.functional as F\n",
    "import torchvision.transforms as T\n",
    "from torch.autograd import Variable\n",
    "\n",
    "sns.set_style(\"whitegrid\")\n",
    "sns.set_palette(\"colorblind\")\n",
    "palette = sns.color_palette()\n",
    "figsize = (15,8)\n",
    "legend_fontsize = 16\n",
    "%matplotlib inline"
   ]
  },
  {
   "cell_type": "code",
   "execution_count": 2,
   "metadata": {},
   "outputs": [],
   "source": [
    "N_ROWS, N_COLS, N_WIN = 3, 3, 3"
   ]
  },
  {
   "cell_type": "code",
   "execution_count": 3,
   "metadata": {},
   "outputs": [],
   "source": [
    "class TicTacToe(gym.Env):\n",
    "    def __init__(self, n_rows=N_ROWS, n_cols=N_COLS, n_win=N_WIN):\n",
    "        self.n_rows = n_rows\n",
    "        self.n_cols = n_cols\n",
    "        self.n_win = n_win\n",
    "\n",
    "        self.board = np.zeros((self.n_rows, self.n_cols), dtype=int)\n",
    "        self.gameOver = False\n",
    "        self.boardHash = None\n",
    "        self.curTurn = 1\n",
    "        self.emptySpaces = None\n",
    "        \n",
    "        self.reset()\n",
    "\n",
    "    def getEmptySpaces(self):\n",
    "        if self.emptySpaces is None:\n",
    "            res = np.where(self.board == 0)\n",
    "            self.emptySpaces = np.array([ (i, j) for i,j in zip(res[0], res[1]) ])\n",
    "        return self.emptySpaces\n",
    "\n",
    "    def makeMove(self, player, i, j):\n",
    "        self.board[i, j] = player\n",
    "        self.emptySpaces = None\n",
    "        self.boardHash = None\n",
    "\n",
    "    def getHash(self):\n",
    "        if self.boardHash is None:\n",
    "            self.boardHash = ''.join(['%s' % (x+1) for x in self.board.reshape(self.n_rows * self.n_cols)])\n",
    "        return self.boardHash\n",
    "\n",
    "    def isTerminal(self):\n",
    "        cur_marks, cur_p = np.where(self.board == self.curTurn), self.curTurn\n",
    "        for i,j in zip(cur_marks[0], cur_marks[1]):\n",
    "#             print((i,j))\n",
    "            win = False\n",
    "            if i <= self.n_rows - self.n_win:\n",
    "                if np.all(self.board[i:i+self.n_win, j] == cur_p):\n",
    "                    win = True\n",
    "            if not win:\n",
    "                if j <= self.n_cols - self.n_win:\n",
    "                    if np.all(self.board[i,j:j+self.n_win] == cur_p):\n",
    "                        win = True\n",
    "            if not win:\n",
    "                if i <= self.n_rows - self.n_win and j <= self.n_cols - self.n_win:\n",
    "                    if np.all(np.array([ self.board[i+k,j+k] == cur_p for k in range(self.n_win) ])):\n",
    "                        win = True\n",
    "            if not win:\n",
    "                if i <= self.n_rows - self.n_win and j >= self.n_win-1:\n",
    "                    if np.all(np.array([ self.board[i+k,j-k] == cur_p for k in range(self.n_win) ])):\n",
    "                        win = True\n",
    "            if win:\n",
    "                self.gameOver = True\n",
    "                return self.curTurn\n",
    "\n",
    "        if len(self.getEmptySpaces()) == 0:\n",
    "            self.gameOver = True\n",
    "            return 0\n",
    "\n",
    "        self.gameOver = False\n",
    "        return None\n",
    "\n",
    "    def printBoard(self):\n",
    "        for i in range(0, self.n_rows):\n",
    "            print('----'*(self.n_cols)+'-')\n",
    "            out = '| '\n",
    "            for j in range(0, self.n_cols):\n",
    "                if self.board[i, j] == 1:\n",
    "                    token = 'x'\n",
    "                if self.board[i, j] == -1:\n",
    "                    token = 'o'\n",
    "                if self.board[i, j] == 0:\n",
    "                    token = ' '\n",
    "                out += token + ' | '\n",
    "            print(out)\n",
    "        print('----'*(self.n_cols)+'-')\n",
    "\n",
    "    def getState(self):\n",
    "        return (self.getHash(), self.getEmptySpaces(), self.curTurn)\n",
    "\n",
    "    def action_from_int(self, action_int):\n",
    "        return ( int(action_int / self.n_cols), int(action_int % self.n_cols))\n",
    "\n",
    "    def int_from_action(self, action):\n",
    "        return action[0] * self.n_cols + action[1]\n",
    "    \n",
    "    def step(self, action):\n",
    "        if self.board[action[0], action[1]] != 0:\n",
    "            return self.getState(), -10, True, {}\n",
    "        self.makeMove(self.curTurn, action[0], action[1])\n",
    "        reward = self.isTerminal()\n",
    "        self.curTurn = -self.curTurn\n",
    "        return self.getState(), 0 if reward is None else reward, reward is not None, {}\n",
    "\n",
    "    def reset(self):\n",
    "        self.board = np.zeros((self.n_rows, self.n_cols), dtype=int)\n",
    "        self.boardHash = None\n",
    "        self.gameOver = False\n",
    "        self.emptySpaces = None\n",
    "        self.curTurn = 1"
   ]
  },
  {
   "cell_type": "markdown",
   "metadata": {},
   "source": [
    "# Task 1 "
   ]
  },
  {
   "cell_type": "markdown",
   "metadata": {},
   "source": [
    "### Field 3 x 3"
   ]
  },
  {
   "cell_type": "code",
   "execution_count": 4,
   "metadata": {},
   "outputs": [],
   "source": [
    "env = TicTacToe()"
   ]
  },
  {
   "cell_type": "code",
   "execution_count": 5,
   "metadata": {},
   "outputs": [],
   "source": [
    "def e_greedy(env, Q, epsilon = 0.01):\n",
    "    possible_actions = [env.int_from_action(env.getEmptySpaces()[i]) for i in range(len(env.getEmptySpaces()))]\n",
    "    if env.getState()[0] not in Q.keys():\n",
    "        Q[env.getState()[0]] = np.zeros(len(possible_actions))\n",
    "        \n",
    "    if np.random.random() > epsilon:\n",
    "        return np.argmax(Q[env.getState()[0]]), possible_actions[np.argmax(Q[env.getState()[0]])]\n",
    "    else:\n",
    "        ch = np.random.choice(len(possible_actions))\n",
    "        return ch, possible_actions[ch]"
   ]
  },
  {
   "cell_type": "code",
   "execution_count": 6,
   "metadata": {},
   "outputs": [],
   "source": [
    "def Q_learning_episode(strategy, env, Q, lr = 0.01, gamma = 1., crosses = 1, *args, **kwargs):\n",
    "    env.reset()\n",
    "    if env.curTurn != crosses:\n",
    "        possible_actions = [env.int_from_action(env.getEmptySpaces()[i]) for i in range(len(env.getEmptySpaces()))]\n",
    "        opponents_action = np.random.choice(possible_actions)\n",
    "        env.step(env.action_from_int(opponents_action))\n",
    "        \n",
    "    while True:\n",
    "        #getting current state\n",
    "        state = env.getState()[0]\n",
    "\n",
    "        #action acording to the strategy\n",
    "        q_action, action = strategy(env, Q, *args, **kwargs)\n",
    "\n",
    "            # step\n",
    "        _, reward, done, _ = env.step(env.action_from_int(action))\n",
    "        reward = crosses * reward\n",
    "        if done:\n",
    "            Q[state][q_action] += lr * (reward  - Q[state][q_action])\n",
    "            #env.printBoard()\n",
    "            return reward\n",
    "\n",
    "            #oppponents turn\n",
    "        possible_actions = [env.int_from_action(env.getEmptySpaces()[i]) for i in range(len(env.getEmptySpaces()))]\n",
    "        opponents_action = np.random.choice(possible_actions)\n",
    "            \n",
    "            #opponent step\n",
    "        next_state_, reward, done, _ = env.step(env.action_from_int(opponents_action))\n",
    "        reward = crosses * reward\n",
    "        if done:\n",
    "            Q[state][q_action] += lr * (reward  - Q[state][q_action])\n",
    "            #env.printBoard()\n",
    "            return reward\n",
    "            \n",
    "        next_state = next_state_[0]\n",
    "        if next_state in Q.keys():\n",
    "            Q[state][q_action] += lr * (reward + gamma * np.max(Q[next_state]) - Q[state][q_action])\n",
    "        else:\n",
    "            possible_actions = [env.int_from_action(env.getEmptySpaces()[i]) for i in range(len(env.getEmptySpaces()))]\n",
    "            Q[next_state] = np.zeros(len(possible_actions))\n",
    "            Q[state][q_action] += lr * (reward + gamma * np.max(Q[next_state]) - Q[state][q_action])\n",
    "            #env.printBoard()"
   ]
  },
  {
   "cell_type": "code",
   "execution_count": 7,
   "metadata": {},
   "outputs": [],
   "source": [
    "def run_many_games_Q_learning(strategy, env = TicTacToe(), n_games = 100000, verbose = True, print_every = 1000, crosses = 1, *args, **kwargs):\n",
    "    mean_game_rewards = []\n",
    "    avg_every = []\n",
    "    Q = {}\n",
    "    for i in tqdm_notebook(range(n_games)):\n",
    "        R = Q_learning_episode(strategy, env, Q, crosses = crosses, *args, **kwargs)\n",
    "        avg_every.append(R)\n",
    "        if ((i + 1) % print_every == 0):\n",
    "            if verbose:\n",
    "                print(\"{}/{}\".format(i + 1, n_games) + \" avg rewards: {}\".format(np.mean(avg_every)))\n",
    "            mean_game_rewards.append(np.mean(avg_every))\n",
    "            avg_every = []\n",
    "    return Q, mean_game_rewards"
   ]
  },
  {
   "cell_type": "code",
   "execution_count": 8,
   "metadata": {},
   "outputs": [
    {
     "data": {
      "application/vnd.jupyter.widget-view+json": {
       "model_id": "d8ee850bcbb04376a8b3c315e0a47b34",
       "version_major": 2,
       "version_minor": 0
      },
      "text/plain": [
       "HBox(children=(FloatProgress(value=0.0, max=100000.0), HTML(value='')))"
      ]
     },
     "metadata": {},
     "output_type": "display_data"
    },
    {
     "name": "stdout",
     "output_type": "stream",
     "text": [
      "\n"
     ]
    },
    {
     "data": {
      "application/vnd.jupyter.widget-view+json": {
       "model_id": "7d103927dcea4738b9025a117677d527",
       "version_major": 2,
       "version_minor": 0
      },
      "text/plain": [
       "HBox(children=(FloatProgress(value=0.0, max=100000.0), HTML(value='')))"
      ]
     },
     "metadata": {},
     "output_type": "display_data"
    },
    {
     "name": "stdout",
     "output_type": "stream",
     "text": [
      "\n"
     ]
    }
   ],
   "source": [
    "Q_crosses, rewards_q_learning_crosses = run_many_games_Q_learning(e_greedy, verbose = False, crosses = 1)\n",
    "Q_nills, rewards_q_learning_nills = run_many_games_Q_learning(e_greedy, verbose = False, crosses = -1)"
   ]
  },
  {
   "cell_type": "code",
   "execution_count": 9,
   "metadata": {},
   "outputs": [
    {
     "data": {
      "image/png": "[encoded data removed]",
      "text/plain": [
       "<Figure size 432x288 with 1 Axes>"
      ]
     },
     "metadata": {
      "needs_background": "light"
     },
     "output_type": "display_data"
    }
   ],
   "source": [
    "plt.plot(np.array(list(range(1,101)))*1000, rewards_q_learning_crosses, label = 'Q learning CROSSES 3x3 field')\n",
    "plt.plot(np.array(list(range(1,101)))*1000, rewards_q_learning_nills, label = 'Q learning NOUGHTS 3x3 field')\n",
    "plt.xlabel('epoch')\n",
    "plt.ylabel('score')\n",
    "plt.legend();"
   ]
  },
  {
   "cell_type": "markdown",
   "metadata": {},
   "source": [
    "### Field 4 x 4"
   ]
  },
  {
   "cell_type": "code",
   "execution_count": 10,
   "metadata": {},
   "outputs": [
    {
     "data": {
      "application/vnd.jupyter.widget-view+json": {
       "model_id": "fd278af1f7254022b8dccb7001318cf6",
       "version_major": 2,
       "version_minor": 0
      },
      "text/plain": [
       "HBox(children=(FloatProgress(value=0.0, max=100000.0), HTML(value='')))"
      ]
     },
     "metadata": {},
     "output_type": "display_data"
    },
    {
     "name": "stdout",
     "output_type": "stream",
     "text": [
      "\n"
     ]
    },
    {
     "data": {
      "application/vnd.jupyter.widget-view+json": {
       "model_id": "cc24bd58476a4589a45a18ec3d8e6e5e",
       "version_major": 2,
       "version_minor": 0
      },
      "text/plain": [
       "HBox(children=(FloatProgress(value=0.0, max=100000.0), HTML(value='')))"
      ]
     },
     "metadata": {},
     "output_type": "display_data"
    },
    {
     "name": "stdout",
     "output_type": "stream",
     "text": [
      "\n"
     ]
    }
   ],
   "source": [
    "env = TicTacToe(4,4,4)\n",
    "Q_crosses, rewards_q_learning_crosses = run_many_games_Q_learning(e_greedy, env = env, n_games = 100000, verbose = False, crosses = 1)\n",
    "Q_nills, rewards_q_learning_nills = run_many_games_Q_learning(e_greedy, env = env, n_games = 100000, verbose = False, crosses = -1)"
   ]
  },
  {
   "cell_type": "code",
   "execution_count": 11,
   "metadata": {},
   "outputs": [
    {
     "data": {
      "image/png": "[encoded data removed]",
      "text/plain": [
       "<Figure size 432x288 with 1 Axes>"
      ]
     },
     "metadata": {
      "needs_background": "light"
     },
     "output_type": "display_data"
    }
   ],
   "source": [
    "plt.plot(np.array(list(range(1,101)))*1000, rewards_q_learning_crosses, label = 'Q learning CROSSES 4x4 field')\n",
    "plt.plot(np.array(list(range(1,101)))*1000, rewards_q_learning_nills, label = 'Q learning NOUGHTS 4x4 field')\n",
    "plt.xlabel('epoch')\n",
    "plt.ylabel('score')\n",
    "plt.legend();"
   ]
  },
  {
   "cell_type": "markdown",
   "metadata": {},
   "source": [
    "### Field 5 x 5"
   ]
  },
  {
   "cell_type": "code",
   "execution_count": 12,
   "metadata": {},
   "outputs": [
    {
     "data": {
      "application/vnd.jupyter.widget-view+json": {
       "model_id": "8eb91aed2aa548b9ad9a951fc3ca9300",
       "version_major": 2,
       "version_minor": 0
      },
      "text/plain": [
       "HBox(children=(FloatProgress(value=0.0, max=100000.0), HTML(value='')))"
      ]
     },
     "metadata": {},
     "output_type": "display_data"
    },
    {
     "name": "stdout",
     "output_type": "stream",
     "text": [
      "\n"
     ]
    },
    {
     "data": {
      "application/vnd.jupyter.widget-view+json": {
       "model_id": "d89ec32d3a9a4db59d377de29b252188",
       "version_major": 2,
       "version_minor": 0
      },
      "text/plain": [
       "HBox(children=(FloatProgress(value=0.0, max=100000.0), HTML(value='')))"
      ]
     },
     "metadata": {},
     "output_type": "display_data"
    },
    {
     "name": "stdout",
     "output_type": "stream",
     "text": [
      "\n"
     ]
    }
   ],
   "source": [
    "env = TicTacToe(5,5,5)\n",
    "Q_crosses, rewards_q_learning_crosses = run_many_games_Q_learning(e_greedy, env = env, n_games = 100000, verbose = False, crosses = 1)\n",
    "Q_nills, rewards_q_learning_nills = run_many_games_Q_learning(e_greedy, env = env, n_games = 100000, verbose = False, crosses = -1)"
   ]
  },
  {
   "cell_type": "code",
   "execution_count": 14,
   "metadata": {},
   "outputs": [
    {
     "data": {
      "image/png": "[encoded data removed]",
      "text/plain": [
       "<Figure size 432x288 with 1 Axes>"
      ]
     },
     "metadata": {
      "needs_background": "light"
     },
     "output_type": "display_data"
    }
   ],
   "source": [
    "plt.plot(np.array(list(range(1,101)))*1000, rewards_q_learning_crosses, label = 'Q learning CROSSES 5x5 field')\n",
    "plt.plot(np.array(list(range(1,101)))*1000, rewards_q_learning_nills, label = 'Q learning NOUGHTS 5x5 field')\n",
    "plt.xlabel('epoch')\n",
    "plt.ylabel('score')\n",
    "plt.legend();"
   ]
  },
  {
   "cell_type": "markdown",
   "metadata": {},
   "source": [
    "# Task 2"
   ]
  },
  {
   "cell_type": "code",
   "execution_count": 23,
   "metadata": {},
   "outputs": [],
   "source": [
    "Capcity = 10000\n",
    "N_games = 10000\n",
    "n_chanels = 9\n",
    "batch_size = 64\n",
    "device = 'cuda:0' if torch.cuda.is_available() else 'cpu'"
   ]
  },
  {
   "cell_type": "code",
   "execution_count": 16,
   "metadata": {},
   "outputs": [],
   "source": [
    "Transition = namedtuple('Transition',\n",
    "                        ('state', 'action', 'next_state', 'reward'))\n",
    "\n",
    "class ReplayMemory(object):\n",
    "\n",
    "    def __init__(self, capacity):\n",
    "        self.capacity = capacity\n",
    "        self.memory = []\n",
    "        self.position = 0\n",
    "\n",
    "    def push(self, *args):\n",
    "        \"\"\"Saves a transition.\"\"\"\n",
    "        if len(self.memory) < self.capacity:\n",
    "            self.memory.append(None)\n",
    "        self.memory[self.position] = Transition(*args)\n",
    "        self.position = (self.position + 1) % self.capacity\n",
    "\n",
    "    def sample(self, batch_size):\n",
    "        return random.sample(self.memory, batch_size)\n",
    "\n",
    "    def __len__(self):\n",
    "        return len(self.memory)"
   ]
  },
  {
   "cell_type": "code",
   "execution_count": 17,
   "metadata": {},
   "outputs": [],
   "source": [
    "class DQN(nn.Module):\n",
    "    def __init__(self, field_size):\n",
    "        super(DQN, self).__init__()\n",
    "        self.field_size = field_size\n",
    "        \n",
    "        self.conv = nn.Conv2d(1, self.field_size * self.field_size, kernel_size = self.field_size)\n",
    "        \n",
    "    def forward(self, x):\n",
    "        x = self.conv(x)\n",
    "        return x\n",
    "    \n",
    "class DQN_noughts(nn.Module):\n",
    "    def __init__(self, field_size, n_chanels):\n",
    "        super(DQN_noughts, self).__init__()\n",
    "        self.field_size = field_size\n",
    "        self.n_chanels = n_chanels\n",
    "        \n",
    "        self.conv = nn.Conv2d(1, self.n_chanels, kernel_size = self.field_size)\n",
    "        self.l = nn.Linear(self.n_chanels, self.field_size * self.field_size)\n",
    "    def forward(self, x):\n",
    "        x = F.relu(self.conv(x))\n",
    "        b = x.size()[0]\n",
    "        x = x.view(b, -1)\n",
    "        x = self.l(x)\n",
    "        return x"
   ]
  },
  {
   "cell_type": "code",
   "execution_count": 18,
   "metadata": {},
   "outputs": [],
   "source": [
    "def e_greedy_dqn(env, dqn, epsilon = 0.01, device = device):\n",
    "    possible_actions = [env.int_from_action(env.getEmptySpaces()[i]) for i in range(len(env.getEmptySpaces()))]\n",
    "    fstate = torch.Tensor(env.board)\n",
    "    actions = dqn(fstate.unsqueeze(0).unsqueeze(0).to(device)).squeeze(0).cpu().detach().numpy()\n",
    "    #print(possible_actions)\n",
    "    Q_actions = actions[possible_actions] \n",
    "    #print(epsilon)\n",
    "    if np.random.random() > epsilon:\n",
    "        return possible_actions[np.argmax(Q_actions)]\n",
    "    else:\n",
    "        return np.random.choice(possible_actions)"
   ]
  },
  {
   "cell_type": "code",
   "execution_count": 19,
   "metadata": {},
   "outputs": [],
   "source": [
    "def dqn_learn(dqn, memory, optimizer, gamma):\n",
    "    batch = memory.sample(batch_size)\n",
    "    \n",
    "    fstate_batch = [el[0] for el in batch]\n",
    "    \n",
    "    actions = np.array([el[1] for el in batch])\n",
    "    \n",
    "    fnext_state_batch = [el[2][0] for el in batch]\n",
    "    isTermanal = [el[2][1] for el in batch]\n",
    "    fnext_actions = [el[2][2] for el in batch]\n",
    "    \n",
    "    reward = np.array([el[3] for el in batch])\n",
    "    \n",
    "    with torch.no_grad():\n",
    "        predictions = dqn(torch.Tensor(fnext_state_batch).unsqueeze(1).to(device)).cpu().detach().numpy()\n",
    "        predicted_target = gamma * np.array(\n",
    "            [np.max(predictions[i][fnext_actions[i]]) if fnext_actions[i] != [] else 0. for i in range(batch_size)])\n",
    "        predicted_target += reward\n",
    "        target = torch.Tensor([reward[i] if isTermanal[i] else predicted_target[i] for i in range(batch_size)])\n",
    "    \n",
    "    predictions = dqn(torch.Tensor(fstate_batch).unsqueeze(1).to(device)).cpu().squeeze()\n",
    "\n",
    "    loss = F.mse_loss(predictions[np.arange(batch_size), actions], target)\n",
    "    \n",
    "    loss.backward()\n",
    "    optimizer.step()\n",
    "    optimizer.zero_grad()\n",
    "    \n",
    "    return loss.item()"
   ]
  },
  {
   "cell_type": "code",
   "execution_count": 20,
   "metadata": {},
   "outputs": [],
   "source": [
    "def DQN_train_episode(env, NN, optimizer, memory, gamma = 1., crosses = 1, Capcity = Capcity, device = device, *args, **kwargs):\n",
    "    env.reset()\n",
    "    \n",
    "    # if we are o\n",
    "    if env.curTurn != crosses:\n",
    "        possible_actions = [env.int_from_action(env.getEmptySpaces()[i]) for i in range(len(env.getEmptySpaces()))]\n",
    "        opponents_action = np.random.choice(possible_actions)\n",
    "        env.step(env.action_from_int(opponents_action))\n",
    "    loss = 0.\n",
    "    \n",
    "    while True:\n",
    "        #---------------\n",
    "        # OUR TURN\n",
    "        #---------------\n",
    "            \n",
    "        # getting current state\n",
    "        fstate = env.board\n",
    "        fstate_actions = [env.int_from_action(env.getEmptySpaces()[i]) for i in range(len(env.getEmptySpaces()))]\n",
    "        \n",
    "        # action according policy\n",
    "        action = e_greedy_dqn(env, NN, *args, **kwargs)\n",
    "        #print('action', action)\n",
    "        # step and win\n",
    "        #print(env.step(env.action_from_int(action)))\n",
    "        _, reward, done, _ = env.step(env.action_from_int(action))\n",
    "        reward = crosses * reward\n",
    "        \n",
    "        if done:\n",
    "            memory.push(fstate, action, (env.board, done, []), reward)\n",
    "            if len(memory) >= batch_size:\n",
    "                loss += dqn_learn(NN, memory, optimizer, gamma)\n",
    "            return reward, loss\n",
    "            \n",
    "        #---------------\n",
    "        # Oppponents TURN\n",
    "        #---------------\n",
    "        possible_actions = [env.int_from_action(env.getEmptySpaces()[i]) for i in range(len(env.getEmptySpaces()))]\n",
    "        opponents_action = np.random.choice(possible_actions)\n",
    "            \n",
    "        #oppponents step\n",
    "        _, reward, done, _ = env.step(env.action_from_int(opponents_action))\n",
    "        reward = crosses * reward\n",
    "        \n",
    "        if done:\n",
    "            memory.push(fstate, action, (env.board, done, []), reward)\n",
    "            if len(memory) >= batch_size:\n",
    "                loss += dqn_learn(NN, memory, optimizer, gamma)\n",
    "            return reward, loss\n",
    "        else:\n",
    "            fnext_actions = [env.int_from_action(env.getEmptySpaces()[i]) for i in range(len(env.getEmptySpaces()))]\n",
    "            memory.push(fstate, action, (env.board, not done, fnext_actions), reward)\n",
    "            if len(memory) >= batch_size:\n",
    "                loss += dqn_learn(NN, memory, optimizer, gamma)"
   ]
  },
  {
   "cell_type": "code",
   "execution_count": 21,
   "metadata": {},
   "outputs": [],
   "source": [
    "def DQN_train(env, NN, N_games = N_games, gamma = 1., crosses = 1, Capcity = Capcity, device = device, verbose = True, print_every = 1000,  *args, **kwargs):\n",
    "    memory = ReplayMemory(Capcity)\n",
    "    optimizer = optim.Adam(NN.parameters(), 0.01)\n",
    "    \n",
    "    mean_game_rewards = []\n",
    "    mean_game_loss = []\n",
    "    avg_every = []\n",
    "    loss_every = []\n",
    "    epsilon = 1.\n",
    "    for i in tqdm_notebook(range(N_games)):\n",
    "        if i % 1000 == 999:\n",
    "            epsilon = epsilon - 0.1\n",
    "            epsilon = max(0.01, epsilon)\n",
    "            #epsilon = 0.8\n",
    "        R, loss = DQN_train_episode(env, NN, optimizer, memory, gamma, crosses, Capcity, device, epsilon= epsilon,*args, **kwargs)\n",
    "        avg_every.append(R)\n",
    "        loss_every.append(loss)\n",
    "        if ((i + 1) % print_every == 0):\n",
    "            if verbose:\n",
    "                print(\"{}/{}\".format(i + 1, N_games) + \" avg rewards: {}\".format(np.mean(avg_every)) + ' avg loss: {}'.format(np.mean(loss_every)))\n",
    "            mean_game_rewards.append(np.mean(avg_every))\n",
    "            mean_game_loss.append(np.mean(loss_every))\n",
    "            avg_every = []\n",
    "            loss_every = []\n",
    "    return NN, mean_game_rewards"
   ]
  },
  {
   "cell_type": "markdown",
   "metadata": {},
   "source": [
    "## Field 3x3x3"
   ]
  },
  {
   "cell_type": "code",
   "execution_count": 24,
   "metadata": {},
   "outputs": [
    {
     "data": {
      "application/vnd.jupyter.widget-view+json": {
       "model_id": "be73e19a1950411abd8a6801b08a52c0",
       "version_major": 2,
       "version_minor": 0
      },
      "text/plain": [
       "HBox(children=(FloatProgress(value=0.0, max=10000.0), HTML(value='')))"
      ]
     },
     "metadata": {},
     "output_type": "display_data"
    },
    {
     "name": "stdout",
     "output_type": "stream",
     "text": [
      "1000/10000 avg rewards: 0.275 avg loss: 0.6482562135346234\n",
      "2000/10000 avg rewards: 0.233 avg loss: 0.6594246226772666\n",
      "3000/10000 avg rewards: 0.3 avg loss: 0.6645768015757203\n",
      "4000/10000 avg rewards: 0.312 avg loss: 0.6509787754118442\n",
      "5000/10000 avg rewards: 0.365 avg loss: 0.6476496092006564\n",
      "6000/10000 avg rewards: 0.342 avg loss: 0.6127475390955806\n",
      "7000/10000 avg rewards: 0.486 avg loss: 0.6064759472683072\n",
      "8000/10000 avg rewards: 0.514 avg loss: 0.5760274500697851\n",
      "9000/10000 avg rewards: 0.636 avg loss: 0.5664667733237148\n",
      "10000/10000 avg rewards: 0.699 avg loss: 0.5295081532821059\n",
      "\n"
     ]
    }
   ],
   "source": [
    "env = TicTacToe(3,3,3)\n",
    "NN_crosses = DQN(env.n_cols).to(device)\n",
    "Q_crosses, crosses_rewards = DQN_train(env, NN_crosses, N_games= 10000, print_every = 1000)"
   ]
  },
  {
   "cell_type": "code",
   "execution_count": 25,
   "metadata": {},
   "outputs": [
    {
     "data": {
      "application/vnd.jupyter.widget-view+json": {
       "model_id": "a0cd88fcf4b74d06b885dc0955f2c29d",
       "version_major": 2,
       "version_minor": 0
      },
      "text/plain": [
       "HBox(children=(FloatProgress(value=0.0, max=10000.0), HTML(value='')))"
      ]
     },
     "metadata": {},
     "output_type": "display_data"
    },
    {
     "name": "stdout",
     "output_type": "stream",
     "text": [
      "1000/10000 avg rewards: -0.264 avg loss: 0.3930150259817019\n",
      "2000/10000 avg rewards: -0.278 avg loss: 0.5427139134630561\n",
      "3000/10000 avg rewards: -0.308 avg loss: 0.5639339292570948\n",
      "4000/10000 avg rewards: -0.313 avg loss: 0.576466742388904\n",
      "5000/10000 avg rewards: -0.338 avg loss: 0.5808822974339127\n",
      "6000/10000 avg rewards: -0.273 avg loss: 0.5674037251621484\n",
      "7000/10000 avg rewards: -0.235 avg loss: 0.5549273015037179\n",
      "8000/10000 avg rewards: -0.206 avg loss: 0.5391040831282735\n",
      "9000/10000 avg rewards: -0.084 avg loss: 0.5093587142676115\n",
      "10000/10000 avg rewards: -0.045 avg loss: 0.4418136895187199\n",
      "\n"
     ]
    }
   ],
   "source": [
    "env = TicTacToe(3,3,3)\n",
    "NN_noughts = DQN_noughts(env.n_cols, 64).to(device)\n",
    "Q_noughts, noughts_rewards = DQN_train(env, NN_noughts, crosses = -1, N_games= 10000, print_every = 1000)"
   ]
  },
  {
   "cell_type": "code",
   "execution_count": 26,
   "metadata": {},
   "outputs": [
    {
     "data": {
      "text/plain": [
       "<matplotlib.legend.Legend at 0x253c4629b48>"
      ]
     },
     "execution_count": 26,
     "metadata": {},
     "output_type": "execute_result"
    },
    {
     "data": {
      "image/png": "[encoded data removed]",
      "text/plain": [
       "<Figure size 432x288 with 1 Axes>"
      ]
     },
     "metadata": {
      "needs_background": "light"
     },
     "output_type": "display_data"
    }
   ],
   "source": [
    "plt.plot(np.array(list(range(1,11)))*1000, crosses_rewards, label = 'DQN CROSSES 3x3 field')\n",
    "plt.plot(np.array(list(range(1,11)))*1000, noughts_rewards, label = 'DQN NOUGHTS 3x3 field')\n",
    "plt.legend()"
   ]
  },
  {
   "cell_type": "markdown",
   "metadata": {},
   "source": [
    "## Field 4x4x4 "
   ]
  },
  {
   "cell_type": "code",
   "execution_count": 27,
   "metadata": {},
   "outputs": [
    {
     "data": {
      "application/vnd.jupyter.widget-view+json": {
       "model_id": "c06ee40524844e2686d156f02aa4c482",
       "version_major": 2,
       "version_minor": 0
      },
      "text/plain": [
       "HBox(children=(FloatProgress(value=0.0, max=10000.0), HTML(value='')))"
      ]
     },
     "metadata": {},
     "output_type": "display_data"
    },
    {
     "name": "stdout",
     "output_type": "stream",
     "text": [
      "1000/10000 avg rewards: 0.071 avg loss: 0.5509193950491026\n",
      "2000/10000 avg rewards: 0.062 avg loss: 0.6112217182395979\n",
      "3000/10000 avg rewards: 0.11 avg loss: 0.6156488196626305\n",
      "4000/10000 avg rewards: 0.142 avg loss: 0.6387671134732663\n",
      "5000/10000 avg rewards: 0.197 avg loss: 0.6085938592944294\n",
      "6000/10000 avg rewards: 0.273 avg loss: 0.6174454127606005\n",
      "7000/10000 avg rewards: 0.409 avg loss: 0.5989341211225837\n",
      "8000/10000 avg rewards: 0.512 avg loss: 0.6013936912938952\n",
      "9000/10000 avg rewards: 0.618 avg loss: 0.608510679518804\n",
      "10000/10000 avg rewards: 0.666 avg loss: 0.5967664017118514\n",
      "\n"
     ]
    }
   ],
   "source": [
    "env = TicTacToe(4,4,4)\n",
    "NN_crosses = DQN(env.n_cols).to(device)\n",
    "Q_crosses, crosses_rewards = DQN_train(env, NN_crosses, N_games= 10000, print_every = 1000)"
   ]
  },
  {
   "cell_type": "code",
   "execution_count": 28,
   "metadata": {},
   "outputs": [
    {
     "data": {
      "application/vnd.jupyter.widget-view+json": {
       "model_id": "4c82fd36618544c6a342150068d0b4fa",
       "version_major": 2,
       "version_minor": 0
      },
      "text/plain": [
       "HBox(children=(FloatProgress(value=0.0, max=10000.0), HTML(value='')))"
      ]
     },
     "metadata": {},
     "output_type": "display_data"
    },
    {
     "name": "stdout",
     "output_type": "stream",
     "text": [
      "1000/10000 avg rewards: -0.051 avg loss: 0.22455649224005175\n",
      "2000/10000 avg rewards: -0.044 avg loss: 0.4516672810371965\n",
      "3000/10000 avg rewards: -0.017 avg loss: 0.49642980727856045\n",
      "4000/10000 avg rewards: 0.005 avg loss: 0.4741975678214803\n",
      "5000/10000 avg rewards: 0.066 avg loss: 0.4820676864809357\n",
      "6000/10000 avg rewards: 0.003 avg loss: 0.49511022480670364\n",
      "7000/10000 avg rewards: 0.058 avg loss: 0.47829227474704383\n",
      "8000/10000 avg rewards: 0.054 avg loss: 0.49115143609838563\n",
      "9000/10000 avg rewards: 0.142 avg loss: 0.4922408605767414\n",
      "10000/10000 avg rewards: 0.276 avg loss: 0.4903607673794031\n",
      "\n"
     ]
    }
   ],
   "source": [
    "env = TicTacToe(4,4,4)\n",
    "NN_noughts = DQN_noughts(env.n_cols, 128).to(device)\n",
    "Q_noughts, noughts_rewards = DQN_train(env, NN_noughts, crosses = -1, N_games= 10000, print_every = 1000)"
   ]
  },
  {
   "cell_type": "code",
   "execution_count": 29,
   "metadata": {},
   "outputs": [
    {
     "data": {
      "text/plain": [
       "<matplotlib.legend.Legend at 0x253a6eee7c8>"
      ]
     },
     "execution_count": 29,
     "metadata": {},
     "output_type": "execute_result"
    },
    {
     "data": {
      "image/png": "[encoded data removed]",
      "text/plain": [
       "<Figure size 432x288 with 1 Axes>"
      ]
     },
     "metadata": {
      "needs_background": "light"
     },
     "output_type": "display_data"
    }
   ],
   "source": [
    "plt.plot(np.array(list(range(1,11)))*1000, crosses_rewards, label = 'DQN CROSSES 4x4 field')\n",
    "plt.plot(np.array(list(range(1,11)))*1000, noughts_rewards, label = 'DQN NOUGHTS 4x4 field')\n",
    "plt.legend()"
   ]
  },
  {
   "cell_type": "markdown",
   "metadata": {},
   "source": [
    "## Field 5x5x5 "
   ]
  },
  {
   "cell_type": "code",
   "execution_count": 30,
   "metadata": {},
   "outputs": [
    {
     "data": {
      "application/vnd.jupyter.widget-view+json": {
       "model_id": "34c78c5fece04927a81160a8ceb78005",
       "version_major": 2,
       "version_minor": 0
      },
      "text/plain": [
       "HBox(children=(FloatProgress(value=0.0, max=10000.0), HTML(value='')))"
      ]
     },
     "metadata": {},
     "output_type": "display_data"
    },
    {
     "name": "stdout",
     "output_type": "stream",
     "text": [
      "1000/10000 avg rewards: 0.087 avg loss: 0.4798304843360092\n",
      "2000/10000 avg rewards: 0.072 avg loss: 0.5479410154484212\n",
      "3000/10000 avg rewards: 0.098 avg loss: 0.5873281538197771\n",
      "4000/10000 avg rewards: 0.13 avg loss: 0.5769330853512511\n",
      "5000/10000 avg rewards: 0.154 avg loss: 0.5776506157694384\n",
      "6000/10000 avg rewards: 0.192 avg loss: 0.605830382751301\n",
      "7000/10000 avg rewards: 0.217 avg loss: 0.625369393568486\n",
      "8000/10000 avg rewards: 0.296 avg loss: 0.6529645364722237\n",
      "9000/10000 avg rewards: 0.354 avg loss: 0.6598694166261703\n",
      "10000/10000 avg rewards: 0.408 avg loss: 0.6806062501510606\n",
      "\n"
     ]
    }
   ],
   "source": [
    "env = TicTacToe(5,5,5)\n",
    "NN_crosses = DQN(env.n_cols).to(device)\n",
    "Q_crosses, crosses_rewards = DQN_train(env, NN_crosses, N_games= 10000, print_every = 1000)"
   ]
  },
  {
   "cell_type": "code",
   "execution_count": 31,
   "metadata": {},
   "outputs": [
    {
     "data": {
      "application/vnd.jupyter.widget-view+json": {
       "model_id": "2322a99053a2488d8f3128a8bb8d343b",
       "version_major": 2,
       "version_minor": 0
      },
      "text/plain": [
       "HBox(children=(FloatProgress(value=0.0, max=10000.0), HTML(value='')))"
      ]
     },
     "metadata": {},
     "output_type": "display_data"
    },
    {
     "name": "stdout",
     "output_type": "stream",
     "text": [
      "1000/10000 avg rewards: -0.085 avg loss: 0.251188783487014\n",
      "2000/10000 avg rewards: -0.061 avg loss: 0.3837405454156251\n",
      "3000/10000 avg rewards: -0.078 avg loss: 0.3665399968598795\n",
      "4000/10000 avg rewards: -0.068 avg loss: 0.3907810351625667\n",
      "5000/10000 avg rewards: -0.023 avg loss: 0.42620686926374035\n",
      "6000/10000 avg rewards: -0.004 avg loss: 0.38054324225640446\n",
      "7000/10000 avg rewards: -0.036 avg loss: 0.4211894852969126\n",
      "8000/10000 avg rewards: -0.025 avg loss: 0.4011572253037302\n",
      "9000/10000 avg rewards: 0.185 avg loss: 0.43032909955750803\n",
      "10000/10000 avg rewards: 0.392 avg loss: 0.5146180286158342\n",
      "\n"
     ]
    }
   ],
   "source": [
    "env = TicTacToe(5,5,5)\n",
    "NN_noughts = DQN_noughts(env.n_cols, 256).to(device)\n",
    "Q_noughts, noughts_rewards = DQN_train(env, NN_noughts, crosses = -1, N_games= 10000, print_every = 1000)"
   ]
  },
  {
   "cell_type": "code",
   "execution_count": 32,
   "metadata": {},
   "outputs": [
    {
     "data": {
      "text/plain": [
       "<matplotlib.legend.Legend at 0x253a81eed48>"
      ]
     },
     "execution_count": 32,
     "metadata": {},
     "output_type": "execute_result"
    },
    {
     "data": {
      "image/png": "[encoded data removed]",
      "text/plain": [
       "<Figure size 432x288 with 1 Axes>"
      ]
     },
     "metadata": {
      "needs_background": "light"
     },
     "output_type": "display_data"
    }
   ],
   "source": [
    "plt.plot(np.array(list(range(1,11)))*1000, crosses_rewards, label = 'DQN CROSSES 5x5 field')\n",
    "plt.plot(np.array(list(range(1,11)))*1000, noughts_rewards, label = 'DQN NOUGHTS 5x5 field')\n",
    "plt.legend()"
   ]
  },
  {
   "cell_type": "markdown",
   "metadata": {},
   "source": [
    "## Dueling DQN "
   ]
  },
  {
   "cell_type": "code",
   "execution_count": 33,
   "metadata": {},
   "outputs": [],
   "source": [
    "class DuelingDQN(nn.Module):\n",
    "    def __init__(self, field_size, n_chanels):\n",
    "        super(DuelingDQN, self).__init__()\n",
    "        self.field_size = field_size\n",
    "        self.n_chanels = n_chanels\n",
    "        \n",
    "        self.conv = nn.Conv2d(1, self.n_chanels, kernel_size = self.field_size)\n",
    "        self.l = nn.Linear(self.n_chanels, self.field_size * self.field_size)\n",
    "        self.l2 = nn.Linear(self.n_chanels, 1)\n",
    "    def forward(self, x):\n",
    "        x = torch.tanh(self.conv(x))\n",
    "        b = x.size()[0]\n",
    "        x = x.view(b, -1)\n",
    "        \n",
    "        # Action adv\n",
    "        z = self.l(x)\n",
    "        # Value f\n",
    "        y = self.l2(x)\n",
    "        ma =  torch.mean(z, dim=1, keepdim=True)\n",
    "        #https://towardsdatascience.com/dueling-deep-q-networks-81ffab672751\n",
    "        return z + y - ma"
   ]
  },
  {
   "cell_type": "code",
   "execution_count": 40,
   "metadata": {},
   "outputs": [
    {
     "data": {
      "application/vnd.jupyter.widget-view+json": {
       "model_id": "036f59d25078484b92638212d8d06baa",
       "version_major": 2,
       "version_minor": 0
      },
      "text/plain": [
       "HBox(children=(FloatProgress(value=0.0, max=10000.0), HTML(value='')))"
      ]
     },
     "metadata": {},
     "output_type": "display_data"
    },
    {
     "name": "stdout",
     "output_type": "stream",
     "text": [
      "1000/10000 avg rewards: 0.297 avg loss: 0.5270036694891751\n",
      "2000/10000 avg rewards: 0.354 avg loss: 0.643376579143107\n",
      "3000/10000 avg rewards: 0.27 avg loss: 0.6584400138482451\n",
      "4000/10000 avg rewards: 0.328 avg loss: 0.6527494532540441\n",
      "5000/10000 avg rewards: 0.404 avg loss: 0.6578771312758327\n",
      "6000/10000 avg rewards: 0.459 avg loss: 0.6381367165893316\n",
      "7000/10000 avg rewards: 0.539 avg loss: 0.6252029235959053\n",
      "8000/10000 avg rewards: 0.55 avg loss: 0.6315378334671259\n",
      "9000/10000 avg rewards: 0.513 avg loss: 0.6199462607800961\n",
      "10000/10000 avg rewards: 0.636 avg loss: 0.6115460866764187\n",
      "\n"
     ]
    }
   ],
   "source": [
    "env = TicTacToe(3,3,3)\n",
    "NN_crosses = DuelingDQN(env.n_cols, 32).to(device)\n",
    "Q_crosses, crosses_rewards = DQN_train(env, NN_crosses, N_games= 10000, print_every = 1000)"
   ]
  },
  {
   "cell_type": "code",
   "execution_count": 41,
   "metadata": {},
   "outputs": [
    {
     "data": {
      "application/vnd.jupyter.widget-view+json": {
       "model_id": "79756289dde240b5818a831acc90b7e9",
       "version_major": 2,
       "version_minor": 0
      },
      "text/plain": [
       "HBox(children=(FloatProgress(value=0.0, max=10000.0), HTML(value='')))"
      ]
     },
     "metadata": {},
     "output_type": "display_data"
    },
    {
     "name": "stdout",
     "output_type": "stream",
     "text": [
      "1000/10000 avg rewards: -0.275 avg loss: 0.448638180822134\n",
      "2000/10000 avg rewards: -0.282 avg loss: 0.6044504047855734\n",
      "3000/10000 avg rewards: -0.276 avg loss: 0.630685692332685\n",
      "4000/10000 avg rewards: -0.233 avg loss: 0.6546558907255531\n",
      "5000/10000 avg rewards: -0.281 avg loss: 0.6452940035015344\n",
      "6000/10000 avg rewards: -0.24 avg loss: 0.6477100701034069\n",
      "7000/10000 avg rewards: -0.163 avg loss: 0.6202323457747698\n",
      "8000/10000 avg rewards: -0.019 avg loss: 0.6147084494456648\n",
      "9000/10000 avg rewards: 0.12 avg loss: 0.5874213555976748\n",
      "10000/10000 avg rewards: 0.029 avg loss: 0.5792830273360013\n",
      "\n"
     ]
    }
   ],
   "source": [
    "env = TicTacToe(3,3,3)\n",
    "NN_noughts = DuelingDQN(env.n_cols, 32).to(device)\n",
    "Q_noughts, noughts_rewards = DQN_train(env, NN_noughts, N_games= 10000, crosses = -1, print_every = 1000)"
   ]
  },
  {
   "cell_type": "code",
   "execution_count": 42,
   "metadata": {},
   "outputs": [
    {
     "data": {
      "text/plain": [
       "<matplotlib.legend.Legend at 0x253ab0c6ec8>"
      ]
     },
     "execution_count": 42,
     "metadata": {},
     "output_type": "execute_result"
    },
    {
     "data": {
      "image/png": "[encoded data removed]",
      "text/plain": [
       "<Figure size 432x288 with 1 Axes>"
      ]
     },
     "metadata": {
      "needs_background": "light"
     },
     "output_type": "display_data"
    }
   ],
   "source": [
    "plt.plot(np.array(list(range(1,11)))*1000, crosses_rewards, label = 'Dueling DQN CROSSES 3x3 field')\n",
    "plt.plot(np.array(list(range(1,11)))*1000, noughts_rewards, label = 'Dueling DQN NOUGHTS 3x3 field')\n",
    "plt.legend()"
   ]
  },
  {
   "cell_type": "code",
   "execution_count": 43,
   "metadata": {},
   "outputs": [
    {
     "data": {
      "application/vnd.jupyter.widget-view+json": {
       "model_id": "f8598640290e416199eaf93c6910614e",
       "version_major": 2,
       "version_minor": 0
      },
      "text/plain": [
       "HBox(children=(FloatProgress(value=0.0, max=10000.0), HTML(value='')))"
      ]
     },
     "metadata": {},
     "output_type": "display_data"
    },
    {
     "name": "stdout",
     "output_type": "stream",
     "text": [
      "1000/10000 avg rewards: 0.07 avg loss: 0.4397423063910101\n",
      "2000/10000 avg rewards: 0.078 avg loss: 0.5882301671151072\n",
      "3000/10000 avg rewards: 0.076 avg loss: 0.5955063102925197\n",
      "4000/10000 avg rewards: 0.111 avg loss: 0.6107837893264368\n",
      "5000/10000 avg rewards: 0.061 avg loss: 0.6250309352548793\n",
      "6000/10000 avg rewards: 0.086 avg loss: 0.6239435921050608\n",
      "7000/10000 avg rewards: 0.112 avg loss: 0.6154590138597414\n",
      "8000/10000 avg rewards: 0.148 avg loss: 0.6090138963488861\n",
      "9000/10000 avg rewards: 0.069 avg loss: 0.60484940548148\n",
      "10000/10000 avg rewards: 0.059 avg loss: 0.5817919497368857\n",
      "\n"
     ]
    }
   ],
   "source": [
    "env = TicTacToe(4,4,4)\n",
    "NN_crosses = DuelingDQN(env.n_cols, 32).to(device)\n",
    "Q_crosses, crosses_rewards = DQN_train(env, NN_crosses, N_games= 10000, print_every = 1000)"
   ]
  },
  {
   "cell_type": "code",
   "execution_count": 44,
   "metadata": {},
   "outputs": [
    {
     "data": {
      "application/vnd.jupyter.widget-view+json": {
       "model_id": "4b8d4dc1906c4a0586f8c2e10c813b50",
       "version_major": 2,
       "version_minor": 0
      },
      "text/plain": [
       "HBox(children=(FloatProgress(value=0.0, max=10000.0), HTML(value='')))"
      ]
     },
     "metadata": {},
     "output_type": "display_data"
    },
    {
     "name": "stdout",
     "output_type": "stream",
     "text": [
      "1000/10000 avg rewards: -0.063 avg loss: 0.42993548350501803\n",
      "2000/10000 avg rewards: -0.033 avg loss: 0.5756295078508555\n",
      "3000/10000 avg rewards: -0.063 avg loss: 0.5921140184197575\n",
      "4000/10000 avg rewards: -0.021 avg loss: 0.6092690694332122\n",
      "5000/10000 avg rewards: 0.074 avg loss: 0.6228209400679916\n",
      "6000/10000 avg rewards: 0.027 avg loss: 0.613791748508811\n",
      "7000/10000 avg rewards: 0.038 avg loss: 0.5979731252547353\n",
      "8000/10000 avg rewards: -0.007 avg loss: 0.6020574170760811\n",
      "9000/10000 avg rewards: 0.036 avg loss: 0.5925862390380353\n",
      "10000/10000 avg rewards: 0.153 avg loss: 0.5303995428290218\n",
      "\n"
     ]
    }
   ],
   "source": [
    "env = TicTacToe(4,4,4)\n",
    "NN_noughts = DuelingDQN(env.n_cols, 32).to(device)\n",
    "Q_noughts, noughts_rewards = DQN_train(env, NN_noughts, N_games= 10000, crosses = -1, print_every = 1000)"
   ]
  },
  {
   "cell_type": "code",
   "execution_count": 45,
   "metadata": {},
   "outputs": [
    {
     "data": {
      "text/plain": [
       "<matplotlib.legend.Legend at 0x253ac925188>"
      ]
     },
     "execution_count": 45,
     "metadata": {},
     "output_type": "execute_result"
    },
    {
     "data": {
      "image/png": "[encoded data removed]",
      "text/plain": [
       "<Figure size 432x288 with 1 Axes>"
      ]
     },
     "metadata": {
      "needs_background": "light"
     },
     "output_type": "display_data"
    }
   ],
   "source": [
    "plt.plot(np.array(list(range(1,11)))*1000, crosses_rewards, label = 'Dueling DQN CROSSES 4x4 field')\n",
    "plt.plot(np.array(list(range(1,11)))*1000, noughts_rewards, label = 'Dueling DQN NOUGHTS 4x4 field')\n",
    "plt.legend()"
   ]
  },
  {
   "cell_type": "code",
   "execution_count": 47,
   "metadata": {},
   "outputs": [
    {
     "data": {
      "application/vnd.jupyter.widget-view+json": {
       "model_id": "e7d4a8ae0aa44bd78acc45b87d6ebd55",
       "version_major": 2,
       "version_minor": 0
      },
      "text/plain": [
       "HBox(children=(FloatProgress(value=0.0, max=10000.0), HTML(value='')))"
      ]
     },
     "metadata": {},
     "output_type": "display_data"
    },
    {
     "name": "stdout",
     "output_type": "stream",
     "text": [
      "1000/10000 avg rewards: 0.114 avg loss: 0.3916272875427385\n",
      "2000/10000 avg rewards: 0.103 avg loss: 0.44773474022140725\n",
      "3000/10000 avg rewards: 0.127 avg loss: 0.4532974959791172\n",
      "4000/10000 avg rewards: 0.151 avg loss: 0.46110610201023516\n",
      "5000/10000 avg rewards: 0.125 avg loss: 0.46483821956510657\n",
      "6000/10000 avg rewards: 0.082 avg loss: 0.5066113131516613\n",
      "7000/10000 avg rewards: 0.132 avg loss: 0.5223565524343867\n",
      "8000/10000 avg rewards: 0.12 avg loss: 0.4915479218326509\n",
      "9000/10000 avg rewards: 0.206 avg loss: 0.47467007152643054\n",
      "10000/10000 avg rewards: 0.33 avg loss: 0.5809426170475781\n",
      "\n"
     ]
    }
   ],
   "source": [
    "env = TicTacToe(5,5,5)\n",
    "NN_crosses = DuelingDQN(env.n_cols, 32).to(device)\n",
    "Q_crosses, crosses_rewards = DQN_train(env, NN_crosses, N_games= 10000, print_every = 1000)"
   ]
  },
  {
   "cell_type": "code",
   "execution_count": 46,
   "metadata": {},
   "outputs": [
    {
     "data": {
      "application/vnd.jupyter.widget-view+json": {
       "model_id": "23dcb2a0a4da463282bac4cbb1323139",
       "version_major": 2,
       "version_minor": 0
      },
      "text/plain": [
       "HBox(children=(FloatProgress(value=0.0, max=10000.0), HTML(value='')))"
      ]
     },
     "metadata": {},
     "output_type": "display_data"
    },
    {
     "name": "stdout",
     "output_type": "stream",
     "text": [
      "1000/10000 avg rewards: -0.098 avg loss: 0.36620807863748633\n",
      "2000/10000 avg rewards: -0.088 avg loss: 0.4373246937126387\n",
      "3000/10000 avg rewards: -0.074 avg loss: 0.43594137496035545\n",
      "4000/10000 avg rewards: -0.091 avg loss: 0.42074415817670524\n",
      "5000/10000 avg rewards: -0.075 avg loss: 0.4249956338016782\n",
      "6000/10000 avg rewards: -0.097 avg loss: 0.4327965251118876\n",
      "7000/10000 avg rewards: -0.043 avg loss: 0.43047508445591665\n",
      "8000/10000 avg rewards: -0.113 avg loss: 0.45316736374329775\n",
      "9000/10000 avg rewards: -0.069 avg loss: 0.4746567902409006\n",
      "10000/10000 avg rewards: -0.104 avg loss: 0.46217019686684946\n",
      "\n"
     ]
    }
   ],
   "source": [
    "env = TicTacToe(5,5,5)\n",
    "NN_noughts = DuelingDQN(env.n_cols, 32).to(device)\n",
    "Q_noughts, noughts_rewards = DQN_train(env, NN_noughts, N_games= 10000, crosses = -1, print_every = 1000)"
   ]
  },
  {
   "cell_type": "code",
   "execution_count": 48,
   "metadata": {},
   "outputs": [
    {
     "data": {
      "text/plain": [
       "<matplotlib.legend.Legend at 0x253afb32c08>"
      ]
     },
     "execution_count": 48,
     "metadata": {},
     "output_type": "execute_result"
    },
    {
     "data": {
      "image/png": "[encoded data removed]",
      "text/plain": [
       "<Figure size 432x288 with 1 Axes>"
      ]
     },
     "metadata": {
      "needs_background": "light"
     },
     "output_type": "display_data"
    }
   ],
   "source": [
    "plt.plot(np.array(list(range(1,11)))*1000, crosses_rewards, label = 'Dueling DQN CROSSES 5x5 field')\n",
    "plt.plot(np.array(list(range(1,11)))*1000, noughts_rewards, label = 'Dueling DQN NOUGHTS 5x5 field')\n",
    "plt.legend()"
   ]
  },
  {
   "cell_type": "markdown",
   "metadata": {},
   "source": [
    "# Task 3"
   ]
  },
  {
   "cell_type": "markdown",
   "metadata": {},
   "source": [
    "## Rollouts "
   ]
  },
  {
   "cell_type": "markdown",
   "metadata": {},
   "source": [
    "here we doing rollouts till the end of the game, for every step in the game "
   ]
  },
  {
   "cell_type": "code",
   "execution_count": 49,
   "metadata": {},
   "outputs": [],
   "source": [
    "def rollout(env, strategy, nrolls, crosses, *args, **kwargs):\n",
    "    possible_actions = [env.int_from_action(env.getEmptySpaces()[i]) for i in range(len(env.getEmptySpaces()))]\n",
    "    rewards = {el: [] for el in possible_actions}\n",
    "    for i in range(nrolls):\n",
    "        for act in possible_actions:\n",
    "            cur_env = deepcopy(env)\n",
    "            _, reward, done, _ = cur_env.step(cur_env.action_from_int(act))\n",
    "            if done:\n",
    "                rewards[act].append(reward * crosses)\n",
    "                continue\n",
    "                \n",
    "            while True:\n",
    "                #opponents turn\n",
    "                p_actions = [cur_env.int_from_action(cur_env.getEmptySpaces()[i]) for i in range(len(cur_env.getEmptySpaces()))]\n",
    "                opponents_action = np.random.choice(p_actions)\n",
    "                _, reward, done, _ = cur_env.step(cur_env.action_from_int(opponents_action))\n",
    "                if done:\n",
    "                    rewards[act].append(reward * crosses)\n",
    "                    break\n",
    "                \n",
    "                #our turn\n",
    "                p_actions = [cur_env.int_from_action(cur_env.getEmptySpaces()[i]) for i in range(len(cur_env.getEmptySpaces()))]\n",
    "                our_action = strategy(cur_env, *args, **kwargs)\n",
    "                \n",
    "                _, reward, done, _ = cur_env.step(cur_env.action_from_int(our_action))\n",
    "                if done:\n",
    "                    rewards[act].append(reward * crosses)\n",
    "                    break\n",
    "                    \n",
    "    actions = {el: np.mean(rewards[el]) for el in possible_actions}\n",
    "    maxi = -10\n",
    "    max_act = 0\n",
    "    for act in actions.keys():\n",
    "        if actions[act] > maxi:\n",
    "            max_act = act\n",
    "            maxi = actions[act]\n",
    "    return max_act, actions"
   ]
  },
  {
   "cell_type": "code",
   "execution_count": 50,
   "metadata": {},
   "outputs": [],
   "source": [
    "def rollout_game(env, strategy, nrolls = 100, crosses = 1, *args, **kwargs):\n",
    "    if crosses != env.curTurn:\n",
    "        possible_actions = [env.int_from_action(env.getEmptySpaces()[i]) for i in range(len(env.getEmptySpaces()))]\n",
    "        opponents_action = np.random.choice(possible_actions)\n",
    "        env.step(env.action_from_int(opponents_action))\n",
    "    \n",
    "    while True:\n",
    "        #our turn\n",
    "        p_actions = [env.int_from_action(env.getEmptySpaces()[i]) for i in range(len(env.getEmptySpaces()))]\n",
    "        our_action, _ = rollout(env, strategy, nrolls, crosses, *args, **kwargs)\n",
    "                \n",
    "        _, reward, done, _ = env.step(env.action_from_int(our_action))\n",
    "        \n",
    "        if done:\n",
    "            return reward * crosses\n",
    "        \n",
    "        #opponents turn\n",
    "        p_actions = [env.int_from_action(env.getEmptySpaces()[i]) for i in range(len(env.getEmptySpaces()))]\n",
    "        opponents_action = np.random.choice(p_actions)\n",
    "        \n",
    "        _, reward, done, _ = env.step(env.action_from_int(opponents_action))\n",
    "        \n",
    "        if done:\n",
    "            return reward * crosses"
   ]
  },
  {
   "cell_type": "code",
   "execution_count": 51,
   "metadata": {},
   "outputs": [],
   "source": [
    "def random_str(env):\n",
    "    possible_actions = [env.int_from_action(env.getEmptySpaces()[i]) for i in range(len(env.getEmptySpaces()))]\n",
    "    return possible_actions[np.random.choice(len(possible_actions))]"
   ]
  },
  {
   "cell_type": "code",
   "execution_count": 52,
   "metadata": {
    "scrolled": true
   },
   "outputs": [],
   "source": [
    "env = TicTacToe(3,3,3)\n",
    "env.reset()"
   ]
  },
  {
   "cell_type": "code",
   "execution_count": 53,
   "metadata": {},
   "outputs": [
    {
     "data": {
      "application/vnd.jupyter.widget-view+json": {
       "model_id": "33a0fda0ccdf49f69697da4786fcfa28",
       "version_major": 2,
       "version_minor": 0
      },
      "text/plain": [
       "HBox(children=(FloatProgress(value=0.0), HTML(value='')))"
      ]
     },
     "metadata": {},
     "output_type": "display_data"
    },
    {
     "name": "stdout",
     "output_type": "stream",
     "text": [
      "\n",
      "0.99\n"
     ]
    }
   ],
   "source": [
    "rewards = []\n",
    "for i in tqdm_notebook(range(100)):\n",
    "    env.reset()\n",
    "    rewards.append(rollout_game(env, random_str, nrolls = 100))\n",
    "    \n",
    "print(np.mean(rewards))"
   ]
  },
  {
   "cell_type": "code",
   "execution_count": 54,
   "metadata": {},
   "outputs": [
    {
     "data": {
      "application/vnd.jupyter.widget-view+json": {
       "model_id": "5eb12ea5bcc040acb1af4638de0e0765",
       "version_major": 2,
       "version_minor": 0
      },
      "text/plain": [
       "HBox(children=(FloatProgress(value=0.0), HTML(value='')))"
      ]
     },
     "metadata": {},
     "output_type": "display_data"
    },
    {
     "name": "stdout",
     "output_type": "stream",
     "text": [
      "\n",
      "0.89\n"
     ]
    }
   ],
   "source": [
    "rewards = []\n",
    "for i in tqdm_notebook(range(100)):\n",
    "    env.reset()\n",
    "    rewards.append(rollout_game(env, random_str, nrolls = 100, crosses = -1))\n",
    "    \n",
    "print(np.mean(rewards))"
   ]
  },
  {
   "cell_type": "code",
   "execution_count": 55,
   "metadata": {},
   "outputs": [],
   "source": [
    "env = TicTacToe(4,4,4)\n",
    "env.reset()"
   ]
  },
  {
   "cell_type": "code",
   "execution_count": 56,
   "metadata": {},
   "outputs": [
    {
     "data": {
      "application/vnd.jupyter.widget-view+json": {
       "model_id": "59df0b6e0e274924abe46d2243b1beb0",
       "version_major": 2,
       "version_minor": 0
      },
      "text/plain": [
       "HBox(children=(FloatProgress(value=0.0, max=20.0), HTML(value='')))"
      ]
     },
     "metadata": {},
     "output_type": "display_data"
    },
    {
     "name": "stdout",
     "output_type": "stream",
     "text": [
      "\n",
      "1.0\n"
     ]
    }
   ],
   "source": [
    "rewards = []\n",
    "for i in tqdm_notebook(range(20)):\n",
    "    env.reset()\n",
    "    rewards.append(rollout_game(env, random_str, nrolls = 20))\n",
    "    \n",
    "print(np.mean(rewards))"
   ]
  },
  {
   "cell_type": "code",
   "execution_count": 57,
   "metadata": {},
   "outputs": [
    {
     "data": {
      "application/vnd.jupyter.widget-view+json": {
       "model_id": "92d6e5b118604e9fabfcc85dc05156d5",
       "version_major": 2,
       "version_minor": 0
      },
      "text/plain": [
       "HBox(children=(FloatProgress(value=0.0, max=20.0), HTML(value='')))"
      ]
     },
     "metadata": {},
     "output_type": "display_data"
    },
    {
     "name": "stdout",
     "output_type": "stream",
     "text": [
      "\n",
      "0.7\n"
     ]
    }
   ],
   "source": [
    "rewards = []\n",
    "for i in tqdm_notebook(range(20)):\n",
    "    env.reset()\n",
    "    rewards.append(rollout_game(env, random_str, nrolls = 20, crosses = -1))\n",
    "    \n",
    "print(np.mean(rewards))"
   ]
  },
  {
   "cell_type": "code",
   "execution_count": 58,
   "metadata": {},
   "outputs": [],
   "source": [
    "env = TicTacToe(5,5,5)\n",
    "env.reset()"
   ]
  },
  {
   "cell_type": "code",
   "execution_count": 59,
   "metadata": {},
   "outputs": [
    {
     "data": {
      "application/vnd.jupyter.widget-view+json": {
       "model_id": "41b5f1e6b8704f86acd57b5b5efcebcb",
       "version_major": 2,
       "version_minor": 0
      },
      "text/plain": [
       "HBox(children=(FloatProgress(value=0.0, max=20.0), HTML(value='')))"
      ]
     },
     "metadata": {},
     "output_type": "display_data"
    },
    {
     "name": "stdout",
     "output_type": "stream",
     "text": [
      "\n",
      "1.0\n"
     ]
    }
   ],
   "source": [
    "rewards = []\n",
    "for i in tqdm_notebook(range(20)):\n",
    "    env.reset()\n",
    "    rewards.append(rollout_game(env, random_str, nrolls = 20))\n",
    "    \n",
    "print(np.mean(rewards))"
   ]
  },
  {
   "cell_type": "code",
   "execution_count": 60,
   "metadata": {},
   "outputs": [
    {
     "data": {
      "application/vnd.jupyter.widget-view+json": {
       "model_id": "1e8ee37c3cce49a2aae0e29f092fb3f2",
       "version_major": 2,
       "version_minor": 0
      },
      "text/plain": [
       "HBox(children=(FloatProgress(value=0.0, max=20.0), HTML(value='')))"
      ]
     },
     "metadata": {},
     "output_type": "display_data"
    },
    {
     "name": "stdout",
     "output_type": "stream",
     "text": [
      "\n",
      "0.8\n"
     ]
    }
   ],
   "source": [
    "rewards = []\n",
    "for i in tqdm_notebook(range(20)):\n",
    "    env.reset()\n",
    "    rewards.append(rollout_game(env, random_str, nrolls = 20, crosses = -1))\n",
    "    \n",
    "print(np.mean(rewards))"
   ]
  },
  {
   "cell_type": "markdown",
   "metadata": {},
   "source": [
    "## MCTS"
   ]
  },
  {
   "cell_type": "code",
   "execution_count": 61,
   "metadata": {},
   "outputs": [],
   "source": [
    "def replace(s, position, character):\n",
    "    return s[:position] + character + s[position+1:]"
   ]
  },
  {
   "cell_type": "code",
   "execution_count": 62,
   "metadata": {},
   "outputs": [],
   "source": [
    "C = 0.8\n",
    "\n",
    "class Node():\n",
    "    def __init__(self):\n",
    "        self.parent = None\n",
    "        self.children = {}\n",
    "        self.visits = 0\n",
    "        self.value = 0\n",
    "        self.state = None\n",
    "        self.index = 0\n",
    "        self.storage = None\n",
    "    \n",
    "    def ucb(self):\n",
    "        if self.visits == 0:\n",
    "            return float('inf')\n",
    "        return self.value / self.visits + C * math.sqrt(math.log(self.storage[self.parent].visits) / self.visits)\n",
    "    \n",
    "    def create_children(self):\n",
    "        if self.is_leaf():\n",
    "            np_state = np.array(list(map(int, self.state)))\n",
    "            available_actions = np.where(np_state == 1)[0]\n",
    "            if (len(self.state) - len(available_actions)) % 2 == 0:\n",
    "                curTurn = 1\n",
    "            else:\n",
    "                curTurn = -1\n",
    "            for action in available_actions:\n",
    "                child = Node()\n",
    "                child.parent = self.index\n",
    "                child.state = replace(self.state, action, str(curTurn + 1))\n",
    "                child.index = len(self.storage)\n",
    "                child.storage = self.storage\n",
    "                self.children[action] = child.index\n",
    "                self.storage.append(child)\n",
    "    \n",
    "    def is_leaf(self):\n",
    "        return len(self.children) == 0\n",
    "    \n",
    "    def select_child(self, how=\"best\"):\n",
    "        eps = 0.7\n",
    "        if how == \"best\":\n",
    "            fun = max\n",
    "            characteristic = lambda x: self.storage[x[1]].ucb()\n",
    "        elif how == \"worse\":\n",
    "            fun = min\n",
    "            characteristic = lambda x: self.storage[x[1]].ucb()\n",
    "        elif how == \"random\":\n",
    "            return random.choice(list(self.children.items()))\n",
    "        else:\n",
    "            fun = None\n",
    "            characteristic = None\n",
    "        if not self.is_leaf():\n",
    "            return max(self.children.items(), key=characteristic)"
   ]
  },
  {
   "cell_type": "code",
   "execution_count": 63,
   "metadata": {},
   "outputs": [],
   "source": [
    " def rollout(env, strategy, nrolls, crosses, *args, **kwargs):\n",
    "    possible_actions = [env.int_from_action(env.getEmptySpaces()[i]) for i in range(len(env.getEmptySpaces()))]\n",
    "    cur_env= deepcopy(env)\n",
    "    done = env.gameOver\n",
    "    if done:\n",
    "        return 0 \n",
    "    \n",
    "    while True:\n",
    "        #our turn\n",
    "        p_actions = [cur_env.int_from_action(cur_env.getEmptySpaces()[i]) for i in range(len(cur_env.getEmptySpaces()))]\n",
    "        our_action = strategy(cur_env, *args, **kwargs)\n",
    "                \n",
    "        _, reward, done, _ = cur_env.step(cur_env.action_from_int(our_action))\n",
    "        if done:\n",
    "            return reward * crosses\n",
    "        \n",
    "        #opponents turn\n",
    "        p_actions = [cur_env.int_from_action(cur_env.getEmptySpaces()[i]) for i in range(len(cur_env.getEmptySpaces()))]\n",
    "        opponents_action = np.random.choice(p_actions)\n",
    "        _, reward, done, _ = cur_env.step(cur_env.action_from_int(opponents_action))\n",
    "        if done:\n",
    "            return reward * crosses\n",
    "                "
   ]
  },
  {
   "cell_type": "code",
   "execution_count": 64,
   "metadata": {},
   "outputs": [],
   "source": [
    "class Mcts():\n",
    "    def __init__(self, env, crosses = 1):\n",
    "        self.env = env\n",
    "        self.env.reset()\n",
    "        self.crosses = crosses\n",
    "        self.nodes = []\n",
    "\n",
    "        root = Node()\n",
    "        root.state = self.env.getState()[0]\n",
    "        root.index = 0\n",
    "        root.storage = self.nodes\n",
    "        self.nodes.append(root)\n",
    "        \n",
    "        self.current_node = 0\n",
    "        \n",
    "    def next_step(self):\n",
    "        action, self.current_node = self.nodes[self.current_node].select_child()\n",
    "        self.env.step(self.env.action_from_int(action))\n",
    "    \n",
    "    def selection(self):\n",
    "        while not self.nodes[self.current_node].is_leaf():\n",
    "            self.next_step()\n",
    "    \n",
    "    def expansion(self):\n",
    "        if not self.env.gameOver:\n",
    "            if self.nodes[self.current_node].visits > 0:\n",
    "                self.nodes[self.current_node].create_children()\n",
    "                self.next_step()\n",
    "    \n",
    "    def simulation(self):\n",
    "        return rollout(self.env, random_str, 1, self.crosses)\n",
    "    \n",
    "    def backpropagation(self, r):\n",
    "        while self.nodes[self.current_node].parent is not None:\n",
    "            self.nodes[self.current_node].visits += 1\n",
    "            self.nodes[self.current_node].value += r\n",
    "            self.current_node = self.nodes[self.current_node].parent\n",
    "        self.nodes[self.current_node].visits += 1\n",
    "        self.nodes[self.current_node].value += r\n",
    "    \n",
    "    def learn(self, n_episodes=10000):\n",
    "        for _ in tqdm_notebook(range(n_episodes)):\n",
    "            assert self.current_node == 0\n",
    "            self.env.reset()\n",
    "            self.selection()\n",
    "            self.expansion()\n",
    "            r = self.simulation()\n",
    "            self.backpropagation(r)"
   ]
  },
  {
   "cell_type": "code",
   "execution_count": 65,
   "metadata": {},
   "outputs": [],
   "source": [
    "def run(model, n_episodes = 12, crosses = 1):\n",
    "    cum_rewards = 0\n",
    "    count_games = 0\n",
    "    for _ in range(n_episodes):\n",
    "        model.env.reset()\n",
    "        model.current_node = 0\n",
    "        if crosses == 1:\n",
    "            hows = [None, \"best\", \"random\"]\n",
    "        elif crosses == -1:\n",
    "            hows = [None, \"random\", \"worse\"]\n",
    "        else:\n",
    "            hows = None\n",
    "        while not model.nodes[model.current_node].is_leaf():\n",
    "            action, model.current_node = model.nodes[model.current_node].select_child(hows[model.env.curTurn])\n",
    "            _, reward, done, _ = model.env.step(model.env.action_from_int(action))\n",
    "        if done:\n",
    "            cum_rewards += reward\n",
    "            count_games += 1\n",
    "    mean_reward = cum_rewards / count_games\n",
    "    print(f\"Mean reward vs random policy equal {mean_reward} after {count_games} games.\")\n",
    "    return mean_reward"
   ]
  },
  {
   "cell_type": "markdown",
   "metadata": {},
   "source": [
    "the end of the episode is always in the leaf node but it is not always terminal -> the game is not finished. I don't count these games and only count when terminal node == leaf node"
   ]
  },
  {
   "cell_type": "code",
   "execution_count": 66,
   "metadata": {},
   "outputs": [
    {
     "data": {
      "application/vnd.jupyter.widget-view+json": {
       "model_id": "e79e51958fb34196a8bc3dafa69a79dd",
       "version_major": 2,
       "version_minor": 0
      },
      "text/plain": [
       "HBox(children=(FloatProgress(value=0.0, max=10000.0), HTML(value='')))"
      ]
     },
     "metadata": {},
     "output_type": "display_data"
    },
    {
     "name": "stdout",
     "output_type": "stream",
     "text": [
      "\n",
      "Mean reward vs random policy equal 0.7706692913385826 after 2032 games.\n"
     ]
    },
    {
     "data": {
      "text/plain": [
       "0.7706692913385826"
      ]
     },
     "execution_count": 66,
     "metadata": {},
     "output_type": "execute_result"
    }
   ],
   "source": [
    "env = TicTacToe(3,3,3)\n",
    "\n",
    "mcts = Mcts(env, 1000000)\n",
    "mcts.learn()\n",
    "run(mcts, 10000)"
   ]
  },
  {
   "cell_type": "code",
   "execution_count": 69,
   "metadata": {},
   "outputs": [
    {
     "data": {
      "application/vnd.jupyter.widget-view+json": {
       "model_id": "c95fba34258f4601a296731dbd57f2c2",
       "version_major": 2,
       "version_minor": 0
      },
      "text/plain": [
       "HBox(children=(FloatProgress(value=0.0, max=10000.0), HTML(value='')))"
      ]
     },
     "metadata": {},
     "output_type": "display_data"
    },
    {
     "name": "stdout",
     "output_type": "stream",
     "text": [
      "\n",
      "Mean reward vs random policy equal 1.0 after 13 games.\n"
     ]
    },
    {
     "data": {
      "text/plain": [
       "1.0"
      ]
     },
     "execution_count": 69,
     "metadata": {},
     "output_type": "execute_result"
    }
   ],
   "source": [
    "env = TicTacToe(4,4,4)\n",
    "\n",
    "mcts = Mcts(env, 10000000)\n",
    "mcts.learn()\n",
    "run(mcts, 100000)"
   ]
  }
 ],
 "metadata": {
  "kernelspec": {
   "display_name": "Python 3",
   "language": "python",
   "name": "python3"
  },
  "language_info": {
   "codemirror_mode": {
    "name": "ipython",
    "version": 3
   },
   "file_extension": ".py",
   "mimetype": "text/x-python",
   "name": "python",
   "nbconvert_exporter": "python",
   "pygments_lexer": "ipython3",
   "version": "3.7.6"
  }
 },
 "nbformat": 4,
 "nbformat_minor": 4
}
